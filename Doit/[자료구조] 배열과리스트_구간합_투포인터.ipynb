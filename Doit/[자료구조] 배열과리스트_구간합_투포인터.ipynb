{
 "cells": [
  {
   "cell_type": "code",
   "execution_count": 1,
   "metadata": {},
   "outputs": [
    {
     "data": {
      "text/plain": [
       "['1', '2', '3', '4', '5', '6']"
      ]
     },
     "execution_count": 1,
     "metadata": {},
     "output_type": "execute_result"
    }
   ],
   "source": [
    "a = '123456'\n",
    "list(a)"
   ]
  },
  {
   "cell_type": "code",
   "execution_count": 2,
   "metadata": {},
   "outputs": [
    {
     "name": "stdout",
     "output_type": "stream",
     "text": [
      "ㅇ\n",
      "123456\n",
      "21\n"
     ]
    }
   ],
   "source": [
    "#11720 - 숫자의합\n",
    "n = input()\n",
    "nums = list(input())\n",
    "\n",
    "sum_ = 0 \n",
    "\n",
    "for num in nums:\n",
    "    sum_ += int(num)\n",
    "   \n",
    "print(sum_)"
   ]
  },
  {
   "cell_type": "markdown",
   "metadata": {},
   "source": [
    "> **bool 형 변환**의 경우,   \n",
    "int, float 에서 변환할 때는 데이터가 0인지 아닌지에 따라  \n",
    "chr. str 에서 변활할 때는 값이 비어있는지 아닌지에 따라 False, True를 반환함."
   ]
  },
  {
   "cell_type": "code",
   "execution_count": 3,
   "metadata": {},
   "outputs": [
    {
     "data": {
      "text/plain": [
       "'\\x01'"
      ]
     },
     "execution_count": 3,
     "metadata": {},
     "output_type": "execute_result"
    }
   ],
   "source": [
    "chr(True)"
   ]
  },
  {
   "cell_type": "code",
   "execution_count": 8,
   "metadata": {},
   "outputs": [
    {
     "data": {
      "text/plain": [
       "'True'"
      ]
     },
     "execution_count": 8,
     "metadata": {},
     "output_type": "execute_result"
    }
   ],
   "source": [
    "str(True)"
   ]
  },
  {
   "cell_type": "code",
   "execution_count": 9,
   "metadata": {},
   "outputs": [
    {
     "data": {
      "text/plain": [
       "'False'"
      ]
     },
     "execution_count": 9,
     "metadata": {},
     "output_type": "execute_result"
    }
   ],
   "source": [
    "str(False)"
   ]
  },
  {
   "cell_type": "code",
   "execution_count": 10,
   "metadata": {},
   "outputs": [
    {
     "data": {
      "text/plain": [
       "'1'"
      ]
     },
     "execution_count": 10,
     "metadata": {},
     "output_type": "execute_result"
    }
   ],
   "source": [
    "str(1)"
   ]
  },
  {
   "cell_type": "code",
   "execution_count": 4,
   "metadata": {},
   "outputs": [
    {
     "data": {
      "text/plain": [
       "'\\x00'"
      ]
     },
     "execution_count": 4,
     "metadata": {},
     "output_type": "execute_result"
    }
   ],
   "source": [
    "chr(False)"
   ]
  },
  {
   "cell_type": "code",
   "execution_count": 5,
   "metadata": {},
   "outputs": [
    {
     "data": {
      "text/plain": [
       "'\\x01'"
      ]
     },
     "execution_count": 5,
     "metadata": {},
     "output_type": "execute_result"
    }
   ],
   "source": [
    "chr(1)"
   ]
  },
  {
   "cell_type": "code",
   "execution_count": 7,
   "metadata": {},
   "outputs": [
    {
     "data": {
      "text/plain": [
       "'\\x14'"
      ]
     },
     "execution_count": 7,
     "metadata": {},
     "output_type": "execute_result"
    }
   ],
   "source": [
    "chr(20)"
   ]
  },
  {
   "cell_type": "code",
   "execution_count": 11,
   "metadata": {},
   "outputs": [
    {
     "data": {
      "text/plain": [
       "True"
      ]
     },
     "execution_count": 11,
     "metadata": {},
     "output_type": "execute_result"
    }
   ],
   "source": [
    "bool(1)"
   ]
  },
  {
   "cell_type": "code",
   "execution_count": 12,
   "metadata": {},
   "outputs": [
    {
     "data": {
      "text/plain": [
       "True"
      ]
     },
     "execution_count": 12,
     "metadata": {},
     "output_type": "execute_result"
    }
   ],
   "source": [
    "bool(2)"
   ]
  },
  {
   "cell_type": "code",
   "execution_count": 13,
   "metadata": {},
   "outputs": [
    {
     "data": {
      "text/plain": [
       "False"
      ]
     },
     "execution_count": 13,
     "metadata": {},
     "output_type": "execute_result"
    }
   ],
   "source": [
    "bool(0)"
   ]
  },
  {
   "cell_type": "code",
   "execution_count": 14,
   "metadata": {},
   "outputs": [
    {
     "data": {
      "text/plain": [
       "True"
      ]
     },
     "execution_count": 14,
     "metadata": {},
     "output_type": "execute_result"
    }
   ],
   "source": [
    "bool(100.1253)"
   ]
  },
  {
   "cell_type": "code",
   "execution_count": 15,
   "metadata": {},
   "outputs": [
    {
     "data": {
      "text/plain": [
       "True"
      ]
     },
     "execution_count": 15,
     "metadata": {},
     "output_type": "execute_result"
    }
   ],
   "source": [
    "bool('ㄱ')"
   ]
  },
  {
   "cell_type": "code",
   "execution_count": 16,
   "metadata": {},
   "outputs": [
    {
     "data": {
      "text/plain": [
       "True"
      ]
     },
     "execution_count": 16,
     "metadata": {},
     "output_type": "execute_result"
    }
   ],
   "source": [
    "bool('T')"
   ]
  },
  {
   "cell_type": "code",
   "execution_count": 17,
   "metadata": {},
   "outputs": [
    {
     "data": {
      "text/plain": [
       "False"
      ]
     },
     "execution_count": 17,
     "metadata": {},
     "output_type": "execute_result"
    }
   ],
   "source": [
    "bool('')"
   ]
  },
  {
   "cell_type": "code",
   "execution_count": 4,
   "metadata": {},
   "outputs": [
    {
     "name": "stdout",
     "output_type": "stream",
     "text": [
      "3\n",
      "10 20 30\n",
      "66.66666666666667\n"
     ]
    }
   ],
   "source": [
    "#1546 - 평균\n",
    "    \n",
    "n = int(input())\n",
    "result = list(map(int, input().split()))\n",
    "\n",
    "maxscore = max(result)\n",
    "sum_ = sum(result)\n",
    "\n",
    "print(sum_*100/n/maxscore)"
   ]
  },
  {
   "cell_type": "code",
   "execution_count": 14,
   "metadata": {},
   "outputs": [
    {
     "ename": "ValueError",
     "evalue": "not enough values to unpack (expected 2, got 0)",
     "output_type": "error",
     "traceback": [
      "\u001b[1;31m---------------------------------------------------------------------------\u001b[0m",
      "\u001b[1;31mValueError\u001b[0m                                Traceback (most recent call last)",
      "\u001b[1;32m<ipython-input-14-caee94d25ec4>\u001b[0m in \u001b[0;36m<module>\u001b[1;34m\u001b[0m\n\u001b[0;32m      4\u001b[0m \u001b[0mfirst_text\u001b[0m \u001b[1;33m=\u001b[0m \u001b[0msys\u001b[0m\u001b[1;33m.\u001b[0m\u001b[0mstdin\u001b[0m\u001b[1;33m.\u001b[0m\u001b[0mreadline\u001b[0m\u001b[1;33m(\u001b[0m\u001b[1;33m)\u001b[0m\u001b[1;33m\u001b[0m\u001b[1;33m\u001b[0m\u001b[0m\n\u001b[0;32m      5\u001b[0m \u001b[1;31m#first_text = '5 3'\u001b[0m\u001b[1;33m\u001b[0m\u001b[1;33m\u001b[0m\u001b[1;33m\u001b[0m\u001b[0m\n\u001b[1;32m----> 6\u001b[1;33m \u001b[0mn\u001b[0m\u001b[1;33m,\u001b[0m \u001b[0mn_quiz\u001b[0m \u001b[1;33m=\u001b[0m \u001b[0mmap\u001b[0m\u001b[1;33m(\u001b[0m\u001b[0mint\u001b[0m\u001b[1;33m,\u001b[0m \u001b[0mfirst_text\u001b[0m\u001b[1;33m.\u001b[0m\u001b[0msplit\u001b[0m\u001b[1;33m(\u001b[0m\u001b[1;33m)\u001b[0m\u001b[1;33m)\u001b[0m\u001b[1;33m\u001b[0m\u001b[1;33m\u001b[0m\u001b[0m\n\u001b[0m\u001b[0;32m      7\u001b[0m \u001b[1;33m\u001b[0m\u001b[0m\n\u001b[0;32m      8\u001b[0m \u001b[0msecond_text\u001b[0m \u001b[1;33m=\u001b[0m \u001b[0msys\u001b[0m\u001b[1;33m.\u001b[0m\u001b[0mstdin\u001b[0m\u001b[1;33m.\u001b[0m\u001b[0mreadline\u001b[0m\u001b[1;33m(\u001b[0m\u001b[1;33m)\u001b[0m\u001b[1;33m\u001b[0m\u001b[1;33m\u001b[0m\u001b[0m\n",
      "\u001b[1;31mValueError\u001b[0m: not enough values to unpack (expected 2, got 0)"
     ]
    }
   ],
   "source": [
    "# 11659 - 구간 합 구하기4\n",
    "\n",
    "import sys\n",
    "first_text = sys.stdin.readline()\n",
    "#first_text = '5 3'\n",
    "n, n_quiz = map(int, first_text.split())\n",
    "\n",
    "second_text = sys.stdin.readline()\n",
    "#second_text = '5 4 3 2 1'\n",
    "data = list(map(int, second_text.split()))\n",
    "\n",
    "sum_list = [0]\n",
    "temp = 0\n",
    "\n",
    "for num in data:\n",
    "    temp += num\n",
    "    sum_list.append(temp)\n",
    "\n",
    "for a in range(n_quiz):\n",
    "    i, j = map(int, sys.stdin.readline().split())\n",
    "    print(sum_list[j] - sum_list[i-1])\n"
   ]
  },
  {
   "cell_type": "code",
   "execution_count": 32,
   "metadata": {},
   "outputs": [
    {
     "name": "stdout",
     "output_type": "stream",
     "text": [
      "1 2 3 4\n",
      "2 3 4 5\n",
      "3 4 5 6\n",
      "4 5 6 7\n",
      "2 2 3 4\n",
      "27\n",
      "3 4 3 4\n",
      "6\n",
      "1 1 4 4\n",
      "64\n"
     ]
    }
   ],
   "source": [
    "# 11660 - 구간 합 구하기5\n",
    "\n",
    "import sys\n",
    "first_text = sys.stdin.readline()\n",
    "#first_text = '4 3'\n",
    "arraysize, n_quiz = map(int, first_text.split())\n",
    "\n",
    "A_list = [[0]*(arraysize+1)] \n",
    "D_list = [[0]*(arraysize+1) for _ in range(arraysize+1)] \n",
    "\n",
    "for _ in range(arraysize):\n",
    "    A_row = [0] + list(map(int, sys.stdin.readline().split()))\n",
    "    A_list.append(A_row)\n",
    "\n",
    "for i in range(1, arraysize+1):\n",
    "    for j in range(1, arraysize+1):\n",
    "        D_list[i][j] = D_list[i][j-1] + D_list[i-1][j] - D_list[i-1][j-1] + A_list[i][j]\n",
    "        \n",
    "for q in range(n_quiz):\n",
    "    x1, y1, x2, y2 = map(int, sys.stdin.readline().split())\n",
    "    print(D_list[x2][y2] -D_list[x1-1][y2] - D_list[x2][y1-1] + D_list[x1-1][y1-1])"
   ]
  },
  {
   "cell_type": "code",
   "execution_count": 31,
   "metadata": {},
   "outputs": [
    {
     "data": {
      "text/plain": [
       "[[0, 0, 0, 0, 0],\n",
       " [0, 1, 3, 6, 10],\n",
       " [0, 3, 8, 15, 24],\n",
       " [0, 6, 15, 27, 42],\n",
       " [0, 10, 24, 42, 64]]"
      ]
     },
     "execution_count": 31,
     "metadata": {},
     "output_type": "execute_result"
    }
   ],
   "source": [
    "D_list"
   ]
  },
  {
   "cell_type": "code",
   "execution_count": 26,
   "metadata": {},
   "outputs": [
    {
     "data": {
      "text/plain": [
       "[[0, 0, 0, 0, 0],\n",
       " [0, 1, 2, 3, 4],\n",
       " [0, 2, 3, 4, 5],\n",
       " [0, 3, 4, 5, 6],\n",
       " [0, 4, 5, 6, 7]]"
      ]
     },
     "execution_count": 26,
     "metadata": {},
     "output_type": "execute_result"
    }
   ],
   "source": [
    "A_list"
   ]
  },
  {
   "cell_type": "code",
   "execution_count": 43,
   "metadata": {},
   "outputs": [
    {
     "name": "stdout",
     "output_type": "stream",
     "text": [
      "7\n"
     ]
    }
   ],
   "source": [
    "# 10986 - 나머지 합\n",
    "\n",
    "import sys\n",
    "#n, m = map(int, sys.stdin.readline().split())\n",
    "n, m =  5, 3\n",
    "\n",
    "#data = list(map(int, sys.stdin.readline().split()))\n",
    "data = [1, 2, 3, 1, 2]\n",
    "sum_list = data\n",
    "m_list = [0] * n\n",
    "answer = 0\n",
    "c_result = [0] *m\n",
    "\n",
    "for i in range(1, n):\n",
    "    sum_list[i] = sum_list[i-1] + data[i]\n",
    "\n",
    "for i in range(n):\n",
    "    m_list[i] = sum_list[i]%m\n",
    "    \n",
    "    if m_list[i] == 0:\n",
    "        answer +=1\n",
    "    c_result[m_list[i]] += 1  \n",
    "    \n",
    "for j in range(m):\n",
    "    if c_result[j] > 0:\n",
    "        answer += c_result[j]*(c_result[j] - 1)//2\n",
    "        \n",
    "print(answer)"
   ]
  },
  {
   "cell_type": "code",
   "execution_count": 36,
   "metadata": {},
   "outputs": [
    {
     "data": {
      "text/plain": [
       "[1, 3, 6, 7, 9]"
      ]
     },
     "execution_count": 36,
     "metadata": {},
     "output_type": "execute_result"
    }
   ],
   "source": [
    "sum_list"
   ]
  },
  {
   "cell_type": "code",
   "execution_count": 38,
   "metadata": {},
   "outputs": [
    {
     "data": {
      "text/plain": [
       "[1, 0, 0, 1, 0]"
      ]
     },
     "execution_count": 38,
     "metadata": {},
     "output_type": "execute_result"
    }
   ],
   "source": [
    "m_list"
   ]
  },
  {
   "cell_type": "code",
   "execution_count": 41,
   "metadata": {},
   "outputs": [
    {
     "data": {
      "text/plain": [
       "[3, 2, 0]"
      ]
     },
     "execution_count": 41,
     "metadata": {},
     "output_type": "execute_result"
    }
   ],
   "source": [
    "c_result"
   ]
  },
  {
   "cell_type": "code",
   "execution_count": 51,
   "metadata": {},
   "outputs": [
    {
     "name": "stdout",
     "output_type": "stream",
     "text": [
      "15\n",
      "1 5\n",
      "4 6\n",
      "7 8\n",
      "4\n"
     ]
    }
   ],
   "source": [
    "# 2018 - 연속된 자연수의 합\n",
    "\n",
    "N = int(input())\n",
    "\n",
    "start_index = 1\n",
    "end_index = 1\n",
    "sum_ = 1\n",
    "count = 1\n",
    "\n",
    "while end_index != N:\n",
    "    if sum_ == N:\n",
    "        print(start_index, end_index)\n",
    "        count +=1\n",
    "        end_index +=1\n",
    "        sum_ += end_index\n",
    "    elif sum_ > N:\n",
    "        sum_ -= start_index\n",
    "        start_index +=1\n",
    "    else:\n",
    "        end_index += 1\n",
    "        sum_ += end_index\n",
    "\n",
    "print(count)"
   ]
  },
  {
   "cell_type": "code",
   "execution_count": 64,
   "metadata": {},
   "outputs": [
    {
     "name": "stdout",
     "output_type": "stream",
     "text": [
      "2\n"
     ]
    }
   ],
   "source": [
    "#  1940 - 주몽의 명령\n",
    "import sys\n",
    "#n = int(sys.stdin.readline()) # 데이터 수\n",
    "#m = int(sys.stdin.readline()) # 갑옷 만들 합\n",
    "#data = list(map(int, sys.stdin.readline().split())) \n",
    "\n",
    "n = 6\n",
    "m = 9\n",
    "data = sorted([2, 7, 4, 1, 5, 3])\n",
    "\n",
    "start_index = 0\n",
    "end_index = n -1\n",
    "\n",
    "count = 0\n",
    "\n",
    "while start_index < end_index:\n",
    "    if data[start_index] + data[end_index] < m:\n",
    "        start_index += 1\n",
    "    elif data[start_index] + data[end_index] > m:   \n",
    "        end_index -= 1\n",
    "    else :\n",
    "        count += 1\n",
    "        start_index += 1\n",
    "        end_index -= 1\n",
    "print(count)"
   ]
  },
  {
   "cell_type": "code",
   "execution_count": 70,
   "metadata": {},
   "outputs": [
    {
     "name": "stdout",
     "output_type": "stream",
     "text": [
      "[1, 2, 3, 4, 5, 6, 7, 8, 9, 10]\n",
      "8\n"
     ]
    }
   ],
   "source": [
    "# 1253 - 좋은 수\n",
    "\n",
    "import sys\n",
    "#n = int(sys.stdin.readline()) # 데이터 수\n",
    "#a = sorted(list(map(int, sys.stdin.readline().split())))\n",
    "n = 10\n",
    "a = [1, 2, 3, 4, 5, 6, 7, 8, 9, 10]\n",
    "\n",
    "count = 0\n",
    "\n",
    "print(a)\n",
    "\n",
    "for k in range(n):\n",
    "    find = a[k]\n",
    "    i = 0\n",
    "    j = n -1 \n",
    "    \n",
    "    while i < j :\n",
    "        \n",
    "        if a[i] + a[j] == find :\n",
    "            if (i != k) & (j != k):  \n",
    "                count += 1\n",
    "                break\n",
    "            elif i == k:\n",
    "                i += 1\n",
    "            elif j == k:\n",
    "                j -= 1\n",
    "        \n",
    "        elif a[i] + a[j] < find :\n",
    "            i += 1\n",
    "        else :\n",
    "            j -= 1\n",
    "            \n",
    "print(count)\n"
   ]
  },
  {
   "cell_type": "code",
   "execution_count": 62,
   "metadata": {},
   "outputs": [
    {
     "data": {
      "text/plain": [
       "[1, 2, 3, 4, 5, 7]"
      ]
     },
     "execution_count": 62,
     "metadata": {},
     "output_type": "execute_result"
    }
   ],
   "source": [
    "data"
   ]
  }
 ],
 "metadata": {
  "kernelspec": {
   "display_name": "Python 3",
   "language": "python",
   "name": "python3"
  },
  "language_info": {
   "codemirror_mode": {
    "name": "ipython",
    "version": 3
   },
   "file_extension": ".py",
   "mimetype": "text/x-python",
   "name": "python",
   "nbconvert_exporter": "python",
   "pygments_lexer": "ipython3",
   "version": "3.8.3"
  },
  "toc": {
   "base_numbering": 1,
   "nav_menu": {},
   "number_sections": true,
   "sideBar": true,
   "skip_h1_title": false,
   "title_cell": "Table of Contents",
   "title_sidebar": "Contents",
   "toc_cell": false,
   "toc_position": {},
   "toc_section_display": true,
   "toc_window_display": false
  },
  "varInspector": {
   "cols": {
    "lenName": 16,
    "lenType": 16,
    "lenVar": 40
   },
   "kernels_config": {
    "python": {
     "delete_cmd_postfix": "",
     "delete_cmd_prefix": "del ",
     "library": "var_list.py",
     "varRefreshCmd": "print(var_dic_list())"
    },
    "r": {
     "delete_cmd_postfix": ") ",
     "delete_cmd_prefix": "rm(",
     "library": "var_list.r",
     "varRefreshCmd": "cat(var_dic_list()) "
    }
   },
   "types_to_exclude": [
    "module",
    "function",
    "builtin_function_or_method",
    "instance",
    "_Feature"
   ],
   "window_display": false
  }
 },
 "nbformat": 4,
 "nbformat_minor": 4
}
